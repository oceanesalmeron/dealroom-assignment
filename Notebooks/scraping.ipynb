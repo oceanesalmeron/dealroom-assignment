{
 "cells": [
  {
   "cell_type": "markdown",
   "metadata": {},
   "source": [
    "# Web scraping\n",
    "*Done by Océane Salmeron, December 2020*\n",
    "\n",
    "This notebook is for explaination only, therefore it will not perfom the excel export.\n",
    "\n",
    "## 1. Import libraries"
   ]
  },
  {
   "cell_type": "code",
   "execution_count": 25,
   "metadata": {
    "scrolled": true
   },
   "outputs": [],
   "source": [
    "import pandas as pd\n",
    "import numpy as np\n",
    "import time\n",
    "from selenium import webdriver\n",
    "from selenium.webdriver.common.desired_capabilities import DesiredCapabilities"
   ]
  },
  {
   "cell_type": "markdown",
   "metadata": {},
   "source": [
    "## 2. Load page\n",
    "\n",
    "**Ycombinator.com/companies** page is what we called an infinite loading. It will wait for the user to be at the bottom of the page to load more content. \n",
    "\n",
    "That said, we need to define a function that will scroll until it reach the end. The previous height of the screen calculated needs to be equal to new height of the screen, for the program to know we loaded all the content.\n",
    "\n",
    "To be able to execute that we need a driver. To improve the performance we will set the driver capabilities **\"pageloadstrategy\"** to **eager**. This allows to still retrieve informations without waiting for the full page to load and therefore avoir TimeoutException."
   ]
  },
  {
   "cell_type": "code",
   "execution_count": 26,
   "metadata": {},
   "outputs": [],
   "source": [
    "# Set url\n",
    "url = 'https://www.ycombinator.com/companies/'\n",
    "\n",
    "# Set capabilities\n",
    "caps = DesiredCapabilities().CHROME\n",
    "caps[\"pageLoadStrategy\"] = \"eager\"\n",
    "\n",
    "# Instanciate driver\n",
    "driver = webdriver.Chrome(desired_capabilities=caps, executable_path='../chromedriver')\n",
    "\n",
    "driver.get(url)"
   ]
  },
  {
   "cell_type": "code",
   "execution_count": 27,
   "metadata": {},
   "outputs": [],
   "source": [
    "# Scrolling to the end function\n",
    "def scroll_to_end(driver):\n",
    "    prev_len = driver.execute_script(\"return document.body.scrollHeight\")\n",
    "    while True:\n",
    "        driver.execute_script(\"window.scrollTo(0, document.body.scrollHeight);\")\n",
    "        time.sleep(0.5)\n",
    "        new_len = driver.execute_script(\"return document.body.scrollHeight\")\n",
    "        if new_len == prev_len:\n",
    "            break\n",
    "        prev_len = new_len"
   ]
  },
  {
   "cell_type": "code",
   "execution_count": 28,
   "metadata": {},
   "outputs": [],
   "source": [
    "scroll_to_end(driver)"
   ]
  },
  {
   "cell_type": "markdown",
   "metadata": {},
   "source": [
    "Let's retrieve all the elements in the box that contains the startups."
   ]
  },
  {
   "cell_type": "code",
   "execution_count": 29,
   "metadata": {},
   "outputs": [],
   "source": [
    "results = driver.find_elements_by_xpath(\"//a[@class='SharedDirectory-module__company___AVmr6 no-hovercard']\")"
   ]
  },
  {
   "cell_type": "markdown",
   "metadata": {},
   "source": [
    "The information displayed on this page are not enough. We need to go in each startup profile page. For that we will loop on each elements to retrieve their profile ID."
   ]
  },
  {
   "cell_type": "code",
   "execution_count": 30,
   "metadata": {},
   "outputs": [],
   "source": [
    "def get_links(x):\n",
    "    links = []\n",
    "    for result in x:\n",
    "        s=result.get_attribute('href')\n",
    "        #Only append the id\n",
    "        links.append(s.split('/')[-1])\n",
    "        \n",
    "    return links"
   ]
  },
  {
   "cell_type": "code",
   "execution_count": 31,
   "metadata": {},
   "outputs": [],
   "source": [
    "links=get_links(results)"
   ]
  },
  {
   "cell_type": "markdown",
   "metadata": {},
   "source": [
    "Once we have all the IDs, we will go on each page and retrieve those information :\n",
    "- Company name\n",
    "- Tagline\n",
    "- Description\n",
    "- Website\n",
    "- Launch year\n",
    "- Team size\n",
    "- Socials"
   ]
  },
  {
   "cell_type": "code",
   "execution_count": 32,
   "metadata": {},
   "outputs": [],
   "source": [
    "def retrieve_info(driver):\n",
    "    facts = driver.find_elements_by_css_selector(\".facts div span\")\n",
    "    socials = driver.find_elements_by_css_selector(\".social\")\n",
    "               \n",
    "    item = {'name': driver.find_element_by_class_name(\"heavy\").text, \n",
    "            'info': driver.find_element_by_css_selector(\".main-box h3\").text,\n",
    "            'description': driver.find_element_by_class_name(\"pre-line\").text,\n",
    "            'website': driver.find_element_by_css_selector(\".main-box .links a\").get_attribute('href'),\n",
    "            'launch_year': facts[0].text,\n",
    "            'team_size': facts[1].text,\n",
    "            'location': facts[2].text\n",
    "            }\n",
    "            \n",
    "    for social in socials:\n",
    "        item[social.get_attribute('class').split()[-1]] = social.get_attribute('href')\n",
    "        \n",
    "    return item"
   ]
  },
  {
   "cell_type": "code",
   "execution_count": 33,
   "metadata": {},
   "outputs": [],
   "source": [
    "dic = []\n",
    "for link in links:\n",
    "    driver.get(url+link)\n",
    "    item=retrieve_info(driver)\n",
    "    dic.append(item)"
   ]
  },
  {
   "cell_type": "markdown",
   "metadata": {},
   "source": [
    "Now let's create our dataframe to prepare for the export."
   ]
  },
  {
   "cell_type": "code",
   "execution_count": 34,
   "metadata": {
    "scrolled": true
   },
   "outputs": [],
   "source": [
    "data = pd.DataFrame.from_dict(dic)\n",
    "data.replace(r'^\\s*$', np.nan, regex=True, inplace = True)  "
   ]
  },
  {
   "cell_type": "code",
   "execution_count": 35,
   "metadata": {},
   "outputs": [
    {
     "data": {
      "text/html": [
       "<div>\n",
       "<style scoped>\n",
       "    .dataframe tbody tr th:only-of-type {\n",
       "        vertical-align: middle;\n",
       "    }\n",
       "\n",
       "    .dataframe tbody tr th {\n",
       "        vertical-align: top;\n",
       "    }\n",
       "\n",
       "    .dataframe thead th {\n",
       "        text-align: right;\n",
       "    }\n",
       "</style>\n",
       "<table border=\"1\" class=\"dataframe\">\n",
       "  <thead>\n",
       "    <tr style=\"text-align: right;\">\n",
       "      <th></th>\n",
       "      <th>name</th>\n",
       "      <th>info</th>\n",
       "      <th>description</th>\n",
       "      <th>website</th>\n",
       "      <th>launch_year</th>\n",
       "      <th>team_size</th>\n",
       "      <th>location</th>\n",
       "      <th>linkedin</th>\n",
       "      <th>twitter</th>\n",
       "      <th>facebook</th>\n",
       "      <th>crunchbase</th>\n",
       "    </tr>\n",
       "  </thead>\n",
       "  <tbody>\n",
       "    <tr>\n",
       "      <th>0</th>\n",
       "      <td>DoorDash</td>\n",
       "      <td>Restaurant delivery.</td>\n",
       "      <td>Founded in 2013, DoorDash is a San Francisco-b...</td>\n",
       "      <td>http://doordash.com/</td>\n",
       "      <td>NaN</td>\n",
       "      <td>1600</td>\n",
       "      <td>San Francisco</td>\n",
       "      <td>https://www.linkedin.com/company/doordash/</td>\n",
       "      <td>http://twitter.com/doordash</td>\n",
       "      <td>https://www.facebook.com/DoorDash/</td>\n",
       "      <td>https://www.crunchbase.com/organization/doordash</td>\n",
       "    </tr>\n",
       "    <tr>\n",
       "      <th>1</th>\n",
       "      <td>Dropbox</td>\n",
       "      <td>Backup and share files in the cloud.</td>\n",
       "      <td>Dropbox is building the world’s first smart wo...</td>\n",
       "      <td>http://dropbox.com/</td>\n",
       "      <td>2008</td>\n",
       "      <td>4000</td>\n",
       "      <td>San Francisco</td>\n",
       "      <td>https://www.linkedin.com/in/drewhouston/</td>\n",
       "      <td>https://twitter.com/drewhouston</td>\n",
       "      <td>https://www.facebook.com/Dropbox/</td>\n",
       "      <td>https://www.crunchbase.com/organization/dropbox</td>\n",
       "    </tr>\n",
       "    <tr>\n",
       "      <th>2</th>\n",
       "      <td>Airbnb</td>\n",
       "      <td>Book accommodations around the world</td>\n",
       "      <td>Founded in August of 2008 and based in San Fra...</td>\n",
       "      <td>http://airbnb.com/</td>\n",
       "      <td>2008</td>\n",
       "      <td>5000</td>\n",
       "      <td>San Francisco</td>\n",
       "      <td>https://www.linkedin.com/in/blecharczyk/</td>\n",
       "      <td>https://twitter.com/jgebbia</td>\n",
       "      <td>https://www.facebook.com/airbnb/</td>\n",
       "      <td>https://www.crunchbase.com/organization/airbnb</td>\n",
       "    </tr>\n",
       "    <tr>\n",
       "      <th>3</th>\n",
       "      <td>PagerDuty</td>\n",
       "      <td>Notify you about server troubles.</td>\n",
       "      <td>PagerDuty is an operations performance platfor...</td>\n",
       "      <td>http://pagerduty.com/</td>\n",
       "      <td>NaN</td>\n",
       "      <td>775</td>\n",
       "      <td>San Francisco</td>\n",
       "      <td>https://www.linkedin.com/in/baskarfx/</td>\n",
       "      <td>NaN</td>\n",
       "      <td>NaN</td>\n",
       "      <td>https://www.crunchbase.com/organization/pagerduty</td>\n",
       "    </tr>\n",
       "    <tr>\n",
       "      <th>4</th>\n",
       "      <td>Embark Trucks</td>\n",
       "      <td>We build self-driving semi trucks.</td>\n",
       "      <td>We are a San Francisco based team building sel...</td>\n",
       "      <td>http://embarktrucks.com/</td>\n",
       "      <td>2016</td>\n",
       "      <td>100</td>\n",
       "      <td>San Francisco</td>\n",
       "      <td>https://ca.linkedin.com/in/rodriguesalex</td>\n",
       "      <td>NaN</td>\n",
       "      <td>NaN</td>\n",
       "      <td>https://www.crunchbase.com/organization/varden...</td>\n",
       "    </tr>\n",
       "  </tbody>\n",
       "</table>\n",
       "</div>"
      ],
      "text/plain": [
       "            name                                  info  \\\n",
       "0       DoorDash                  Restaurant delivery.   \n",
       "1        Dropbox  Backup and share files in the cloud.   \n",
       "2         Airbnb  Book accommodations around the world   \n",
       "3      PagerDuty     Notify you about server troubles.   \n",
       "4  Embark Trucks    We build self-driving semi trucks.   \n",
       "\n",
       "                                         description  \\\n",
       "0  Founded in 2013, DoorDash is a San Francisco-b...   \n",
       "1  Dropbox is building the world’s first smart wo...   \n",
       "2  Founded in August of 2008 and based in San Fra...   \n",
       "3  PagerDuty is an operations performance platfor...   \n",
       "4  We are a San Francisco based team building sel...   \n",
       "\n",
       "                    website launch_year team_size       location  \\\n",
       "0      http://doordash.com/         NaN      1600  San Francisco   \n",
       "1       http://dropbox.com/        2008      4000  San Francisco   \n",
       "2        http://airbnb.com/        2008      5000  San Francisco   \n",
       "3     http://pagerduty.com/         NaN       775  San Francisco   \n",
       "4  http://embarktrucks.com/        2016       100  San Francisco   \n",
       "\n",
       "                                     linkedin  \\\n",
       "0  https://www.linkedin.com/company/doordash/   \n",
       "1    https://www.linkedin.com/in/drewhouston/   \n",
       "2    https://www.linkedin.com/in/blecharczyk/   \n",
       "3       https://www.linkedin.com/in/baskarfx/   \n",
       "4    https://ca.linkedin.com/in/rodriguesalex   \n",
       "\n",
       "                           twitter                            facebook  \\\n",
       "0      http://twitter.com/doordash  https://www.facebook.com/DoorDash/   \n",
       "1  https://twitter.com/drewhouston   https://www.facebook.com/Dropbox/   \n",
       "2      https://twitter.com/jgebbia    https://www.facebook.com/airbnb/   \n",
       "3                              NaN                                 NaN   \n",
       "4                              NaN                                 NaN   \n",
       "\n",
       "                                          crunchbase  \n",
       "0   https://www.crunchbase.com/organization/doordash  \n",
       "1    https://www.crunchbase.com/organization/dropbox  \n",
       "2     https://www.crunchbase.com/organization/airbnb  \n",
       "3  https://www.crunchbase.com/organization/pagerduty  \n",
       "4  https://www.crunchbase.com/organization/varden...  "
      ]
     },
     "execution_count": 35,
     "metadata": {},
     "output_type": "execute_result"
    }
   ],
   "source": [
    "data.head()"
   ]
  },
  {
   "cell_type": "code",
   "execution_count": 36,
   "metadata": {},
   "outputs": [
    {
     "name": "stdout",
     "output_type": "stream",
     "text": [
      "<class 'pandas.core.frame.DataFrame'>\n",
      "RangeIndex: 1000 entries, 0 to 999\n",
      "Data columns (total 11 columns):\n",
      " #   Column       Non-Null Count  Dtype \n",
      "---  ------       --------------  ----- \n",
      " 0   name         1000 non-null   object\n",
      " 1   info         985 non-null    object\n",
      " 2   description  932 non-null    object\n",
      " 3   website      999 non-null    object\n",
      " 4   launch_year  621 non-null    object\n",
      " 5   team_size    984 non-null    object\n",
      " 6   location     985 non-null    object\n",
      " 7   linkedin     882 non-null    object\n",
      " 8   twitter      666 non-null    object\n",
      " 9   facebook     389 non-null    object\n",
      " 10  crunchbase   777 non-null    object\n",
      "dtypes: object(11)\n",
      "memory usage: 86.1+ KB\n"
     ]
    }
   ],
   "source": [
    "data.info()"
   ]
  }
 ],
 "metadata": {
  "kernelspec": {
   "display_name": "Python 3",
   "language": "python",
   "name": "python3"
  },
  "language_info": {
   "codemirror_mode": {
    "name": "ipython",
    "version": 3
   },
   "file_extension": ".py",
   "mimetype": "text/x-python",
   "name": "python",
   "nbconvert_exporter": "python",
   "pygments_lexer": "ipython3",
   "version": "3.8.5"
  }
 },
 "nbformat": 4,
 "nbformat_minor": 4
}
