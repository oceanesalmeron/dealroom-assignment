{
 "cells": [
  {
   "cell_type": "markdown",
   "metadata": {},
   "source": [
    "# Web scraping\n",
    "*Done by Océane Salmeron, December 2020*"
   ]
  },
  {
   "cell_type": "code",
   "execution_count": 23,
   "metadata": {
    "scrolled": true
   },
   "outputs": [],
   "source": [
    "#!pip install selenium\n",
    "import pandas as pd\n",
    "import numpy as np\n",
    "import xlsxwriter\n",
    "from selenium import webdriver\n",
    "from selenium.webdriver.common.desired_capabilities import DesiredCapabilities"
   ]
  },
  {
   "cell_type": "code",
   "execution_count": 24,
   "metadata": {},
   "outputs": [],
   "source": [
    "url = 'https://www.ycombinator.com/companies/'\n",
    "\n",
    "#driver = webdriver.Chrome('./chromedriver')\n",
    "caps = DesiredCapabilities().CHROME\n",
    "# caps[\"pageLoadStrategy\"] = \"normal\"  #  Waits for full page load\n",
    "caps[\"pageLoadStrategy\"] = \"eager\"   # Do not wait for full page load\n",
    "driver = webdriver.Chrome(desired_capabilities=caps, executable_path='../chromedriver')\n",
    "driver.get(url)"
   ]
  },
  {
   "cell_type": "code",
   "execution_count": 25,
   "metadata": {},
   "outputs": [],
   "source": [
    "def scroll_to_end(driver):\n",
    "    while len(driver.find_elements_by_xpath(\"//a[@class='SharedDirectory-module__company___AVmr6 no-hovercard']\"))<500 :\n",
    "        driver.execute_script(\"window.scrollTo(0, document.body.scrollHeight);\")"
   ]
  },
  {
   "cell_type": "code",
   "execution_count": 26,
   "metadata": {},
   "outputs": [],
   "source": [
    "scroll_to_end(driver)"
   ]
  },
  {
   "cell_type": "code",
   "execution_count": 27,
   "metadata": {},
   "outputs": [
    {
     "name": "stdout",
     "output_type": "stream",
     "text": [
      "500\n"
     ]
    }
   ],
   "source": [
    "results = driver.find_elements_by_xpath(\"//a[@class='SharedDirectory-module__company___AVmr6 no-hovercard']\")\n",
    "i=0\n",
    "links = []\n",
    "for result in results:\n",
    "    s=result.get_attribute('href')\n",
    "    links.append(s.split('/')[-1])\n",
    "    i+=1\n",
    "print(i)"
   ]
  },
  {
   "cell_type": "code",
   "execution_count": 28,
   "metadata": {
    "scrolled": true
   },
   "outputs": [],
   "source": [
    "# Loop through all the links and launch one by one\n",
    "\n",
    "dic = []\n",
    "\n",
    "for link in links:\n",
    "    \n",
    "    driver.get(url+link)\n",
    "    \n",
    "    facts = driver.find_elements_by_css_selector(\".facts div span\")\n",
    "    socials = driver.find_elements_by_css_selector(\".social\")\n",
    "       \n",
    "    item = {'name': driver.find_element_by_class_name(\"heavy\").text, \n",
    "            'info': driver.find_element_by_css_selector(\".main-box h3\").text,\n",
    "            'description': driver.find_element_by_class_name(\"pre-line\").text,\n",
    "            'website': driver.find_element_by_css_selector(\".main-box .links a\").get_attribute('href'),\n",
    "            'launch_year': facts[0].text,\n",
    "            'team_size': facts[1].text,\n",
    "            'location': facts[2].text\n",
    "           }\n",
    "    \n",
    "    for social in socials:\n",
    "        item[social.get_attribute('class').split()[-1]] = social.get_attribute('href')\n",
    "        \n",
    "    dic.append(item)  "
   ]
  },
  {
   "cell_type": "code",
   "execution_count": 29,
   "metadata": {},
   "outputs": [],
   "source": [
    "data = pd.DataFrame.from_dict(dic)\n",
    "data.replace(r'^\\s*$', np.nan, regex=True, inplace = True)"
   ]
  },
  {
   "cell_type": "code",
   "execution_count": 30,
   "metadata": {},
   "outputs": [
    {
     "data": {
      "text/html": [
       "<div>\n",
       "<style scoped>\n",
       "    .dataframe tbody tr th:only-of-type {\n",
       "        vertical-align: middle;\n",
       "    }\n",
       "\n",
       "    .dataframe tbody tr th {\n",
       "        vertical-align: top;\n",
       "    }\n",
       "\n",
       "    .dataframe thead th {\n",
       "        text-align: right;\n",
       "    }\n",
       "</style>\n",
       "<table border=\"1\" class=\"dataframe\">\n",
       "  <thead>\n",
       "    <tr style=\"text-align: right;\">\n",
       "      <th></th>\n",
       "      <th>name</th>\n",
       "      <th>info</th>\n",
       "      <th>description</th>\n",
       "      <th>website</th>\n",
       "      <th>launch_year</th>\n",
       "      <th>team_size</th>\n",
       "      <th>location</th>\n",
       "      <th>linkedin</th>\n",
       "      <th>twitter</th>\n",
       "      <th>facebook</th>\n",
       "      <th>crunchbase</th>\n",
       "    </tr>\n",
       "  </thead>\n",
       "  <tbody>\n",
       "    <tr>\n",
       "      <th>0</th>\n",
       "      <td>DoorDash</td>\n",
       "      <td>Restaurant delivery.</td>\n",
       "      <td>Founded in 2013, DoorDash is a San Francisco-b...</td>\n",
       "      <td>http://doordash.com/</td>\n",
       "      <td>NaN</td>\n",
       "      <td>1600</td>\n",
       "      <td>San Francisco</td>\n",
       "      <td>https://www.linkedin.com/company/doordash/</td>\n",
       "      <td>http://twitter.com/doordash</td>\n",
       "      <td>https://www.facebook.com/DoorDash/</td>\n",
       "      <td>https://www.crunchbase.com/organization/doordash</td>\n",
       "    </tr>\n",
       "    <tr>\n",
       "      <th>1</th>\n",
       "      <td>Dropbox</td>\n",
       "      <td>Backup and share files in the cloud.</td>\n",
       "      <td>Dropbox is building the world’s first smart wo...</td>\n",
       "      <td>http://dropbox.com/</td>\n",
       "      <td>2008</td>\n",
       "      <td>4000</td>\n",
       "      <td>San Francisco</td>\n",
       "      <td>https://www.linkedin.com/in/drewhouston/</td>\n",
       "      <td>https://twitter.com/drewhouston</td>\n",
       "      <td>https://www.facebook.com/Dropbox/</td>\n",
       "      <td>https://www.crunchbase.com/organization/dropbox</td>\n",
       "    </tr>\n",
       "    <tr>\n",
       "      <th>2</th>\n",
       "      <td>Airbnb</td>\n",
       "      <td>Book accommodations around the world</td>\n",
       "      <td>Founded in August of 2008 and based in San Fra...</td>\n",
       "      <td>http://airbnb.com/</td>\n",
       "      <td>2008</td>\n",
       "      <td>5000</td>\n",
       "      <td>San Francisco</td>\n",
       "      <td>https://www.linkedin.com/in/blecharczyk/</td>\n",
       "      <td>https://twitter.com/jgebbia</td>\n",
       "      <td>https://www.facebook.com/airbnb/</td>\n",
       "      <td>https://www.crunchbase.com/organization/airbnb</td>\n",
       "    </tr>\n",
       "    <tr>\n",
       "      <th>3</th>\n",
       "      <td>PagerDuty</td>\n",
       "      <td>Notify you about server troubles.</td>\n",
       "      <td>PagerDuty is an operations performance platfor...</td>\n",
       "      <td>http://pagerduty.com/</td>\n",
       "      <td>NaN</td>\n",
       "      <td>775</td>\n",
       "      <td>San Francisco</td>\n",
       "      <td>https://www.linkedin.com/in/baskarfx/</td>\n",
       "      <td>NaN</td>\n",
       "      <td>NaN</td>\n",
       "      <td>https://www.crunchbase.com/organization/pagerduty</td>\n",
       "    </tr>\n",
       "    <tr>\n",
       "      <th>4</th>\n",
       "      <td>Embark Trucks</td>\n",
       "      <td>We build self-driving semi trucks.</td>\n",
       "      <td>We are a San Francisco based team building sel...</td>\n",
       "      <td>http://embarktrucks.com/</td>\n",
       "      <td>2016</td>\n",
       "      <td>100</td>\n",
       "      <td>San Francisco</td>\n",
       "      <td>https://ca.linkedin.com/in/rodriguesalex</td>\n",
       "      <td>NaN</td>\n",
       "      <td>NaN</td>\n",
       "      <td>https://www.crunchbase.com/organization/varden...</td>\n",
       "    </tr>\n",
       "  </tbody>\n",
       "</table>\n",
       "</div>"
      ],
      "text/plain": [
       "            name                                  info  \\\n",
       "0       DoorDash                  Restaurant delivery.   \n",
       "1        Dropbox  Backup and share files in the cloud.   \n",
       "2         Airbnb  Book accommodations around the world   \n",
       "3      PagerDuty     Notify you about server troubles.   \n",
       "4  Embark Trucks    We build self-driving semi trucks.   \n",
       "\n",
       "                                         description  \\\n",
       "0  Founded in 2013, DoorDash is a San Francisco-b...   \n",
       "1  Dropbox is building the world’s first smart wo...   \n",
       "2  Founded in August of 2008 and based in San Fra...   \n",
       "3  PagerDuty is an operations performance platfor...   \n",
       "4  We are a San Francisco based team building sel...   \n",
       "\n",
       "                    website launch_year team_size       location  \\\n",
       "0      http://doordash.com/         NaN      1600  San Francisco   \n",
       "1       http://dropbox.com/        2008      4000  San Francisco   \n",
       "2        http://airbnb.com/        2008      5000  San Francisco   \n",
       "3     http://pagerduty.com/         NaN       775  San Francisco   \n",
       "4  http://embarktrucks.com/        2016       100  San Francisco   \n",
       "\n",
       "                                     linkedin  \\\n",
       "0  https://www.linkedin.com/company/doordash/   \n",
       "1    https://www.linkedin.com/in/drewhouston/   \n",
       "2    https://www.linkedin.com/in/blecharczyk/   \n",
       "3       https://www.linkedin.com/in/baskarfx/   \n",
       "4    https://ca.linkedin.com/in/rodriguesalex   \n",
       "\n",
       "                           twitter                            facebook  \\\n",
       "0      http://twitter.com/doordash  https://www.facebook.com/DoorDash/   \n",
       "1  https://twitter.com/drewhouston   https://www.facebook.com/Dropbox/   \n",
       "2      https://twitter.com/jgebbia    https://www.facebook.com/airbnb/   \n",
       "3                              NaN                                 NaN   \n",
       "4                              NaN                                 NaN   \n",
       "\n",
       "                                          crunchbase  \n",
       "0   https://www.crunchbase.com/organization/doordash  \n",
       "1    https://www.crunchbase.com/organization/dropbox  \n",
       "2     https://www.crunchbase.com/organization/airbnb  \n",
       "3  https://www.crunchbase.com/organization/pagerduty  \n",
       "4  https://www.crunchbase.com/organization/varden...  "
      ]
     },
     "execution_count": 30,
     "metadata": {},
     "output_type": "execute_result"
    }
   ],
   "source": [
    "data.head()"
   ]
  },
  {
   "cell_type": "code",
   "execution_count": 31,
   "metadata": {},
   "outputs": [
    {
     "name": "stdout",
     "output_type": "stream",
     "text": [
      "<class 'pandas.core.frame.DataFrame'>\n",
      "RangeIndex: 500 entries, 0 to 499\n",
      "Data columns (total 11 columns):\n",
      " #   Column       Non-Null Count  Dtype \n",
      "---  ------       --------------  ----- \n",
      " 0   name         500 non-null    object\n",
      " 1   info         495 non-null    object\n",
      " 2   description  479 non-null    object\n",
      " 3   website      499 non-null    object\n",
      " 4   launch_year  291 non-null    object\n",
      " 5   team_size    490 non-null    object\n",
      " 6   location     492 non-null    object\n",
      " 7   linkedin     400 non-null    object\n",
      " 8   twitter      339 non-null    object\n",
      " 9   facebook     191 non-null    object\n",
      " 10  crunchbase   418 non-null    object\n",
      "dtypes: object(11)\n",
      "memory usage: 43.1+ KB\n"
     ]
    }
   ],
   "source": [
    "data.info()"
   ]
  },
  {
   "cell_type": "code",
   "execution_count": 32,
   "metadata": {},
   "outputs": [],
   "source": [
    "def export_excel(Filename,Sheetname,df,ind):\n",
    "    try:\n",
    "        xlsx_file = pd.ExcelFile(Filename)\n",
    "    except:\n",
    "        xlsxwriter.Workbook(Filename)\n",
    "        xlsx_file = pd.ExcelFile(Filename)\n",
    "\n",
    "    writer = pd.ExcelWriter(Filename, engine='openpyxl')\n",
    "    IsSheetThereAlready = False\n",
    "    for sheet in xlsx_file.sheet_names:\n",
    "        if sheet == Sheetname:\n",
    "            df.to_excel(writer,sheet_name= sheet, startrow=0, index=ind)\n",
    "            IsSheetThereAlready = True\n",
    "\n",
    "        else:\n",
    "            df2 = xlsx_file.parse(sheet)\n",
    "            df2.to_excel(writer,sheet_name= sheet, index=False)\n",
    "\n",
    "\n",
    "    if IsSheetThereAlready is False:\n",
    "        df.to_excel(writer,sheet_name = Sheetname, index=False)\n",
    "\n",
    "    writer.save()\n",
    "\n",
    "    return"
   ]
  },
  {
   "cell_type": "code",
   "execution_count": 33,
   "metadata": {},
   "outputs": [
    {
     "name": "stdout",
     "output_type": "stream",
     "text": [
      "Starting writing to excel...\n"
     ]
    }
   ],
   "source": [
    "filename = '../Data/Results.xlsx'\n",
    "\n",
    "print('Starting writing to excel...')\n",
    "export_excel(filename,'Scraping results', data, False)"
   ]
  }
 ],
 "metadata": {
  "kernelspec": {
   "display_name": "Python 3",
   "language": "python",
   "name": "python3"
  },
  "language_info": {
   "codemirror_mode": {
    "name": "ipython",
    "version": 3
   },
   "file_extension": ".py",
   "mimetype": "text/x-python",
   "name": "python",
   "nbconvert_exporter": "python",
   "pygments_lexer": "ipython3",
   "version": "3.8.3"
  }
 },
 "nbformat": 4,
 "nbformat_minor": 4
}
