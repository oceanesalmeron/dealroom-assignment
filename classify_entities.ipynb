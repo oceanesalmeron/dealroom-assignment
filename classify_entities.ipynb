{
 "cells": [
  {
   "cell_type": "markdown",
   "metadata": {},
   "source": [
    "# **Data science internship assignement - Dealroom.co**\n",
    "*Done by Océane Salmeron, December 2020*"
   ]
  },
  {
   "cell_type": "markdown",
   "metadata": {},
   "source": [
    "## 1. Import libraries"
   ]
  },
  {
   "cell_type": "code",
   "execution_count": 1,
   "metadata": {},
   "outputs": [],
   "source": [
    "import pandas as pd\n",
    "import numpy as np\n",
    "\n",
    "# Make numpy values easier to read.\n",
    "np.set_printoptions(precision=3, suppress=True)"
   ]
  },
  {
   "cell_type": "markdown",
   "metadata": {},
   "source": [
    "## 2. Import Data"
   ]
  },
  {
   "cell_type": "code",
   "execution_count": 2,
   "metadata": {},
   "outputs": [
    {
     "name": "stdout",
     "output_type": "stream",
     "text": [
      "['Instructions', 'Data', 'Count', 'Scraping results']\n"
     ]
    }
   ],
   "source": [
    "file = 'Data/Data_Science_Internship_Assignment.xlsx'\n",
    "data = pd.ExcelFile(file)\n",
    "print(data.sheet_names)\n",
    "df = data.parse('Data')"
   ]
  },
  {
   "cell_type": "markdown",
   "metadata": {},
   "source": [
    "Let's take a look at our raw data, and get more information about it with .shape and .info()"
   ]
  },
  {
   "cell_type": "code",
   "execution_count": 3,
   "metadata": {},
   "outputs": [
    {
     "data": {
      "text/html": [
       "<div>\n",
       "<style scoped>\n",
       "    .dataframe tbody tr th:only-of-type {\n",
       "        vertical-align: middle;\n",
       "    }\n",
       "\n",
       "    .dataframe tbody tr th {\n",
       "        vertical-align: top;\n",
       "    }\n",
       "\n",
       "    .dataframe thead th {\n",
       "        text-align: right;\n",
       "    }\n",
       "</style>\n",
       "<table border=\"1\" class=\"dataframe\">\n",
       "  <thead>\n",
       "    <tr style=\"text-align: right;\">\n",
       "      <th></th>\n",
       "      <th>NAME</th>\n",
       "      <th>WEBSITE</th>\n",
       "      <th>TAGLINE</th>\n",
       "      <th>HQ REGION</th>\n",
       "      <th>HQ COUNTRY</th>\n",
       "      <th>HQ CITY</th>\n",
       "      <th>TAGS</th>\n",
       "      <th>LAUNCH DATE</th>\n",
       "      <th>GROWTH STAGE</th>\n",
       "      <th>LINKEDIN</th>\n",
       "      <th>TYPE</th>\n",
       "    </tr>\n",
       "  </thead>\n",
       "  <tbody>\n",
       "    <tr>\n",
       "      <th>0</th>\n",
       "      <td>63336</td>\n",
       "      <td>http://63336.com</td>\n",
       "      <td>Ai-enabled q&amp;a service that answers to various...</td>\n",
       "      <td>Europe</td>\n",
       "      <td>United Kingdom</td>\n",
       "      <td>London</td>\n",
       "      <td>mobile</td>\n",
       "      <td>2002, September</td>\n",
       "      <td>late growth stage</td>\n",
       "      <td>NaN</td>\n",
       "      <td>NaN</td>\n",
       "    </tr>\n",
       "    <tr>\n",
       "      <th>1</th>\n",
       "      <td>@Futsal</td>\n",
       "      <td>http://futsaluk.net</td>\n",
       "      <td>Educational courses through the medium of spor...</td>\n",
       "      <td>Europe</td>\n",
       "      <td>United Kingdom</td>\n",
       "      <td>Birmingham</td>\n",
       "      <td>NaN</td>\n",
       "      <td>2008</td>\n",
       "      <td>early growth stage</td>\n",
       "      <td>https://www.linkedin.com/company/-futsal-group...</td>\n",
       "      <td>NaN</td>\n",
       "    </tr>\n",
       "  </tbody>\n",
       "</table>\n",
       "</div>"
      ],
      "text/plain": [
       "      NAME              WEBSITE  \\\n",
       "0    63336     http://63336.com   \n",
       "1  @Futsal  http://futsaluk.net   \n",
       "\n",
       "                                             TAGLINE HQ REGION  \\\n",
       "0  Ai-enabled q&a service that answers to various...    Europe   \n",
       "1  Educational courses through the medium of spor...    Europe   \n",
       "\n",
       "       HQ COUNTRY     HQ CITY    TAGS      LAUNCH DATE        GROWTH STAGE  \\\n",
       "0  United Kingdom      London  mobile  2002, September   late growth stage   \n",
       "1  United Kingdom  Birmingham     NaN             2008  early growth stage   \n",
       "\n",
       "                                            LINKEDIN  TYPE  \n",
       "0                                                NaN   NaN  \n",
       "1  https://www.linkedin.com/company/-futsal-group...   NaN  "
      ]
     },
     "execution_count": 3,
     "metadata": {},
     "output_type": "execute_result"
    }
   ],
   "source": [
    "df.head(2)"
   ]
  },
  {
   "cell_type": "code",
   "execution_count": 4,
   "metadata": {},
   "outputs": [
    {
     "data": {
      "text/plain": [
       "(11582, 11)"
      ]
     },
     "execution_count": 4,
     "metadata": {},
     "output_type": "execute_result"
    }
   ],
   "source": [
    "df.shape"
   ]
  },
  {
   "cell_type": "code",
   "execution_count": 5,
   "metadata": {},
   "outputs": [
    {
     "name": "stdout",
     "output_type": "stream",
     "text": [
      "<class 'pandas.core.frame.DataFrame'>\n",
      "RangeIndex: 11582 entries, 0 to 11581\n",
      "Data columns (total 11 columns):\n",
      " #   Column        Non-Null Count  Dtype  \n",
      "---  ------        --------------  -----  \n",
      " 0   NAME          11582 non-null  object \n",
      " 1   WEBSITE       11582 non-null  object \n",
      " 2   TAGLINE       11453 non-null  object \n",
      " 3   HQ REGION     11582 non-null  object \n",
      " 4   HQ COUNTRY    11582 non-null  object \n",
      " 5   HQ CITY       10908 non-null  object \n",
      " 6   TAGS          9593 non-null   object \n",
      " 7   LAUNCH DATE   11582 non-null  object \n",
      " 8   GROWTH STAGE  8584 non-null   object \n",
      " 9   LINKEDIN      8596 non-null   object \n",
      " 10  TYPE          0 non-null      float64\n",
      "dtypes: float64(1), object(10)\n",
      "memory usage: 995.5+ KB\n"
     ]
    }
   ],
   "source": [
    "df.info()"
   ]
  },
  {
   "cell_type": "markdown",
   "metadata": {},
   "source": [
    "Our data has 11582 entries and 11 columns."
   ]
  },
  {
   "cell_type": "code",
   "execution_count": 6,
   "metadata": {},
   "outputs": [
    {
     "data": {
      "text/plain": [
       "NAME                0\n",
       "WEBSITE             0\n",
       "TAGLINE           129\n",
       "HQ REGION           0\n",
       "HQ COUNTRY          0\n",
       "HQ CITY           674\n",
       "TAGS             1989\n",
       "LAUNCH DATE         0\n",
       "GROWTH STAGE     2998\n",
       "LINKEDIN         2986\n",
       "TYPE            11582\n",
       "dtype: int64"
      ]
     },
     "execution_count": 6,
     "metadata": {},
     "output_type": "execute_result"
    }
   ],
   "source": [
    "df.isna().sum()"
   ]
  },
  {
   "cell_type": "markdown",
   "metadata": {},
   "source": [
    "## 2. Cleaning the Data\n",
    "\n",
    "First let's drop the column that are not relevant to our task."
   ]
  },
  {
   "cell_type": "code",
   "execution_count": 7,
   "metadata": {},
   "outputs": [],
   "source": [
    "df = df.drop(['WEBSITE', 'HQ REGION', 'HQ COUNTRY', 'HQ CITY', 'LINKEDIN'], axis=1)"
   ]
  },
  {
   "cell_type": "code",
   "execution_count": 11,
   "metadata": {},
   "outputs": [],
   "source": [
    "df['LAUNCH DATE'] = pd.to_datetime(df['LAUNCH DATE'].astype(str), errors=\"coerce\").dt.year"
   ]
  },
  {
   "cell_type": "code",
   "execution_count": 12,
   "metadata": {},
   "outputs": [
    {
     "data": {
      "text/html": [
       "<div>\n",
       "<style scoped>\n",
       "    .dataframe tbody tr th:only-of-type {\n",
       "        vertical-align: middle;\n",
       "    }\n",
       "\n",
       "    .dataframe tbody tr th {\n",
       "        vertical-align: top;\n",
       "    }\n",
       "\n",
       "    .dataframe thead th {\n",
       "        text-align: right;\n",
       "    }\n",
       "</style>\n",
       "<table border=\"1\" class=\"dataframe\">\n",
       "  <thead>\n",
       "    <tr style=\"text-align: right;\">\n",
       "      <th></th>\n",
       "      <th>NAME</th>\n",
       "      <th>TAGLINE</th>\n",
       "      <th>TAGS</th>\n",
       "      <th>LAUNCH DATE</th>\n",
       "      <th>GROWTH STAGE</th>\n",
       "      <th>TYPE</th>\n",
       "    </tr>\n",
       "  </thead>\n",
       "  <tbody>\n",
       "    <tr>\n",
       "      <th>0</th>\n",
       "      <td>63336</td>\n",
       "      <td>Ai-enabled q&amp;a service that answers to various...</td>\n",
       "      <td>mobile</td>\n",
       "      <td>2002.0</td>\n",
       "      <td>late growth stage</td>\n",
       "      <td>NaN</td>\n",
       "    </tr>\n",
       "    <tr>\n",
       "      <th>1</th>\n",
       "      <td>@Futsal</td>\n",
       "      <td>Educational courses through the medium of spor...</td>\n",
       "      <td>NaN</td>\n",
       "      <td>2008.0</td>\n",
       "      <td>early growth stage</td>\n",
       "      <td>NaN</td>\n",
       "    </tr>\n",
       "  </tbody>\n",
       "</table>\n",
       "</div>"
      ],
      "text/plain": [
       "      NAME                                            TAGLINE    TAGS  \\\n",
       "0    63336  Ai-enabled q&a service that answers to various...  mobile   \n",
       "1  @Futsal  Educational courses through the medium of spor...     NaN   \n",
       "\n",
       "   LAUNCH DATE        GROWTH STAGE  TYPE  \n",
       "0       2002.0   late growth stage   NaN  \n",
       "1       2008.0  early growth stage   NaN  "
      ]
     },
     "execution_count": 12,
     "metadata": {},
     "output_type": "execute_result"
    }
   ],
   "source": [
    "df.head(2)"
   ]
  },
  {
   "cell_type": "code",
   "execution_count": 13,
   "metadata": {},
   "outputs": [],
   "source": [
    "df[['TAGS','GROWTH STAGE','TAGLINE']] = df[['TAGS','GROWTH STAGE','TAGLINE']].fillna('')"
   ]
  },
  {
   "cell_type": "code",
   "execution_count": 14,
   "metadata": {},
   "outputs": [
    {
     "data": {
      "text/html": [
       "<div>\n",
       "<style scoped>\n",
       "    .dataframe tbody tr th:only-of-type {\n",
       "        vertical-align: middle;\n",
       "    }\n",
       "\n",
       "    .dataframe tbody tr th {\n",
       "        vertical-align: top;\n",
       "    }\n",
       "\n",
       "    .dataframe thead th {\n",
       "        text-align: right;\n",
       "    }\n",
       "</style>\n",
       "<table border=\"1\" class=\"dataframe\">\n",
       "  <thead>\n",
       "    <tr style=\"text-align: right;\">\n",
       "      <th></th>\n",
       "      <th>NAME</th>\n",
       "      <th>TAGLINE</th>\n",
       "      <th>TAGS</th>\n",
       "      <th>LAUNCH DATE</th>\n",
       "      <th>GROWTH STAGE</th>\n",
       "      <th>TYPE</th>\n",
       "    </tr>\n",
       "  </thead>\n",
       "  <tbody>\n",
       "    <tr>\n",
       "      <th>0</th>\n",
       "      <td>63336</td>\n",
       "      <td>Ai-enabled q&amp;a service that answers to various...</td>\n",
       "      <td>[mobile]</td>\n",
       "      <td>2002.0</td>\n",
       "      <td>late growth stage</td>\n",
       "      <td>NaN</td>\n",
       "    </tr>\n",
       "    <tr>\n",
       "      <th>1</th>\n",
       "      <td>@Futsal</td>\n",
       "      <td>Educational courses through the medium of spor...</td>\n",
       "      <td>[]</td>\n",
       "      <td>2008.0</td>\n",
       "      <td>early growth stage</td>\n",
       "      <td>NaN</td>\n",
       "    </tr>\n",
       "    <tr>\n",
       "      <th>2</th>\n",
       "      <td>#5 Magazine</td>\n",
       "      <td>Multi-platform digital lifestyle magazines abo...</td>\n",
       "      <td>[publishing, branding, media, platform, entert...</td>\n",
       "      <td>2007.0</td>\n",
       "      <td></td>\n",
       "      <td>NaN</td>\n",
       "    </tr>\n",
       "    <tr>\n",
       "      <th>3</th>\n",
       "      <td>03Numbers</td>\n",
       "      <td>Planet Numbers are the leading provider of 03 ...</td>\n",
       "      <td>[]</td>\n",
       "      <td>2008.0</td>\n",
       "      <td>early growth stage</td>\n",
       "      <td>NaN</td>\n",
       "    </tr>\n",
       "    <tr>\n",
       "      <th>4</th>\n",
       "      <td>077football News &amp; Media</td>\n",
       "      <td>077Football - the deep-rooted, hyperlocal foot...</td>\n",
       "      <td>[sport, advertising, football, network, game d...</td>\n",
       "      <td>2009.0</td>\n",
       "      <td>late growth stage</td>\n",
       "      <td>NaN</td>\n",
       "    </tr>\n",
       "  </tbody>\n",
       "</table>\n",
       "</div>"
      ],
      "text/plain": [
       "                       NAME  \\\n",
       "0                     63336   \n",
       "1                   @Futsal   \n",
       "2               #5 Magazine   \n",
       "3                 03Numbers   \n",
       "4  077football News & Media   \n",
       "\n",
       "                                             TAGLINE  \\\n",
       "0  Ai-enabled q&a service that answers to various...   \n",
       "1  Educational courses through the medium of spor...   \n",
       "2  Multi-platform digital lifestyle magazines abo...   \n",
       "3  Planet Numbers are the leading provider of 03 ...   \n",
       "4  077Football - the deep-rooted, hyperlocal foot...   \n",
       "\n",
       "                                                TAGS  LAUNCH DATE  \\\n",
       "0                                           [mobile]       2002.0   \n",
       "1                                                 []       2008.0   \n",
       "2  [publishing, branding, media, platform, entert...       2007.0   \n",
       "3                                                 []       2008.0   \n",
       "4  [sport, advertising, football, network, game d...       2009.0   \n",
       "\n",
       "         GROWTH STAGE  TYPE  \n",
       "0   late growth stage   NaN  \n",
       "1  early growth stage   NaN  \n",
       "2                       NaN  \n",
       "3  early growth stage   NaN  \n",
       "4   late growth stage   NaN  "
      ]
     },
     "execution_count": 14,
     "metadata": {},
     "output_type": "execute_result"
    }
   ],
   "source": [
    "# split each of the strings into a list\n",
    "df['TAGS'] = df['TAGS'].str.split(pat=';')\n",
    "\n",
    "# collect all unique tags from those lists\n",
    "tags = set(df['TAGS'].explode().values)\n",
    "\n",
    "df.head()"
   ]
  },
  {
   "cell_type": "code",
   "execution_count": 15,
   "metadata": {},
   "outputs": [
    {
     "data": {
      "text/html": [
       "<div>\n",
       "<style scoped>\n",
       "    .dataframe tbody tr th:only-of-type {\n",
       "        vertical-align: middle;\n",
       "    }\n",
       "\n",
       "    .dataframe tbody tr th {\n",
       "        vertical-align: top;\n",
       "    }\n",
       "\n",
       "    .dataframe thead th {\n",
       "        text-align: right;\n",
       "    }\n",
       "</style>\n",
       "<table border=\"1\" class=\"dataframe\">\n",
       "  <thead>\n",
       "    <tr style=\"text-align: right;\">\n",
       "      <th></th>\n",
       "      <th>NAME</th>\n",
       "      <th>TAGLINE</th>\n",
       "      <th>TAGS</th>\n",
       "      <th>LAUNCH DATE</th>\n",
       "      <th>GROWTH STAGE</th>\n",
       "      <th>TYPE</th>\n",
       "    </tr>\n",
       "  </thead>\n",
       "  <tbody>\n",
       "    <tr>\n",
       "      <th>0</th>\n",
       "      <td>63336</td>\n",
       "      <td>[aienabled, qa, service, answers, various, que...</td>\n",
       "      <td>[mobile]</td>\n",
       "      <td>2002.0</td>\n",
       "      <td>late growth stage</td>\n",
       "      <td>NaN</td>\n",
       "    </tr>\n",
       "    <tr>\n",
       "      <th>1</th>\n",
       "      <td>@Futsal</td>\n",
       "      <td>[educational, courses, medium, sports, childre...</td>\n",
       "      <td>[]</td>\n",
       "      <td>2008.0</td>\n",
       "      <td>early growth stage</td>\n",
       "      <td>NaN</td>\n",
       "    </tr>\n",
       "    <tr>\n",
       "      <th>2</th>\n",
       "      <td>#5 Magazine</td>\n",
       "      <td>[multiplatform, digital, lifestyle, magazines,...</td>\n",
       "      <td>[publishing, branding, media, platform, entert...</td>\n",
       "      <td>2007.0</td>\n",
       "      <td></td>\n",
       "      <td>NaN</td>\n",
       "    </tr>\n",
       "    <tr>\n",
       "      <th>3</th>\n",
       "      <td>03Numbers</td>\n",
       "      <td>[planet, numbers, leading, provider, 03, numbe...</td>\n",
       "      <td>[]</td>\n",
       "      <td>2008.0</td>\n",
       "      <td>early growth stage</td>\n",
       "      <td>NaN</td>\n",
       "    </tr>\n",
       "    <tr>\n",
       "      <th>4</th>\n",
       "      <td>077football News &amp; Media</td>\n",
       "      <td>[077football, deeprooted, hyperlocal, football...</td>\n",
       "      <td>[sport, advertising, football, network, game d...</td>\n",
       "      <td>2009.0</td>\n",
       "      <td>late growth stage</td>\n",
       "      <td>NaN</td>\n",
       "    </tr>\n",
       "  </tbody>\n",
       "</table>\n",
       "</div>"
      ],
      "text/plain": [
       "                       NAME  \\\n",
       "0                     63336   \n",
       "1                   @Futsal   \n",
       "2               #5 Magazine   \n",
       "3                 03Numbers   \n",
       "4  077football News & Media   \n",
       "\n",
       "                                             TAGLINE  \\\n",
       "0  [aienabled, qa, service, answers, various, que...   \n",
       "1  [educational, courses, medium, sports, childre...   \n",
       "2  [multiplatform, digital, lifestyle, magazines,...   \n",
       "3  [planet, numbers, leading, provider, 03, numbe...   \n",
       "4  [077football, deeprooted, hyperlocal, football...   \n",
       "\n",
       "                                                TAGS  LAUNCH DATE  \\\n",
       "0                                           [mobile]       2002.0   \n",
       "1                                                 []       2008.0   \n",
       "2  [publishing, branding, media, platform, entert...       2007.0   \n",
       "3                                                 []       2008.0   \n",
       "4  [sport, advertising, football, network, game d...       2009.0   \n",
       "\n",
       "         GROWTH STAGE  TYPE  \n",
       "0   late growth stage   NaN  \n",
       "1  early growth stage   NaN  \n",
       "2                       NaN  \n",
       "3  early growth stage   NaN  \n",
       "4   late growth stage   NaN  "
      ]
     },
     "execution_count": 15,
     "metadata": {},
     "output_type": "execute_result"
    }
   ],
   "source": [
    "#Stopwords list from https://github.com/Yoast/YoastSEO.js/blob/develop/src/config/stopwords.js\n",
    "stopwords = [ \"a\", \"about\", \"above\", \"after\", \"again\", \"against\", \"all\", \"am\", \"an\", \"and\", \"any\", \"are\", \"as\", \"at\", \"be\", \"because\", \"been\", \"before\", \"being\", \"below\", \"between\", \"both\", \"but\", \"by\", \"could\", \"did\", \"do\", \"does\", \"doing\", \"down\", \"during\", \"each\", \"few\", \"for\", \"from\", \"further\", \"had\", \"has\", \"have\", \"having\", \"he\", \"he'd\", \"he'll\", \"he's\", \"her\", \"here\", \"here's\", \"hers\", \"herself\", \"him\", \"himself\", \"his\", \"how\", \"how's\", \"i\", \"i'd\", \"i'll\", \"i'm\", \"i've\", \"if\", \"in\", \"into\", \"is\", \"it\", \"it's\", \"its\", \"itself\", \"let's\", \"me\", \"more\", \"most\", \"my\", \"myself\", \"nor\", \"of\", \"on\", \"once\", \"only\", \"or\", \"other\", \"ought\", \"our\", \"ours\", \"ourselves\", \"out\", \"over\", \"own\", \"same\", \"she\", \"she'd\", \"she'll\", \"she's\", \"should\", \"so\", \"some\", \"such\", \"than\", \"that\", \"that's\", \"the\", \"their\", \"theirs\", \"them\", \"themselves\", \"then\", \"there\", \"there's\", \"these\", \"they\", \"they'd\", \"they'll\", \"they're\", \"they've\", \"this\", \"those\", \"through\", \"to\", \"too\", \"under\", \"until\", \"up\", \"very\", \"was\", \"we\", \"we'd\", \"we'll\", \"we're\", \"we've\", \"were\", \"what\", \"what's\", \"when\", \"when's\", \"where\", \"where's\", \"which\", \"while\", \"who\", \"who's\", \"whom\", \"why\", \"why's\", \"with\", \"would\", \"you\", \"you'd\", \"you'll\", \"you're\", \"you've\", \"your\", \"yours\", \"yourself\", \"yourselves\" ]\n",
    "\n",
    "# Delete all kind of punctuation\n",
    "df['TAGLINE'] = df['TAGLINE'].astype('string')\n",
    "df['TAGLINE'] = df['TAGLINE'].str.replace(r'[^\\w\\s]','')\n",
    "    \n",
    "# Change all words to lower caps\n",
    "df['TAGLINE'] = df['TAGLINE'].str.lower()\n",
    "df['TAGLINE'] = df['TAGLINE'].apply(lambda x: x.strip())\n",
    "\n",
    "#Remove stopwords\n",
    "df['TAGLINE']= df['TAGLINE'].apply(lambda x: [item for item in x.split() if item not in stopwords])\n",
    "df.head()"
   ]
  },
  {
   "cell_type": "code",
   "execution_count": null,
   "metadata": {},
   "outputs": [],
   "source": []
  }
 ],
 "metadata": {
  "kernelspec": {
   "display_name": "Python 3",
   "language": "python",
   "name": "python3"
  },
  "language_info": {
   "codemirror_mode": {
    "name": "ipython",
    "version": 3
   },
   "file_extension": ".py",
   "mimetype": "text/x-python",
   "name": "python",
   "nbconvert_exporter": "python",
   "pygments_lexer": "ipython3",
   "version": "3.8.3"
  }
 },
 "nbformat": 4,
 "nbformat_minor": 4
}
