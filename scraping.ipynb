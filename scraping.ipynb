{
 "cells": [
  {
   "cell_type": "code",
   "execution_count": 29,
   "metadata": {
    "scrolled": true
   },
   "outputs": [],
   "source": [
    "import pandas as pd\n",
    "import requests\n",
    "from bs4 import BeautifulSoup"
   ]
  },
  {
   "cell_type": "code",
   "execution_count": 35,
   "metadata": {},
   "outputs": [
    {
     "name": "stdout",
     "output_type": "stream",
     "text": [
      "Requirement already satisfied: selenium in /Users/oceanesalmeron/opt/anaconda3/lib/python3.8/site-packages (3.141.0)\r\n",
      "Requirement already satisfied: urllib3 in /Users/oceanesalmeron/opt/anaconda3/lib/python3.8/site-packages (from selenium) (1.25.9)\r\n"
     ]
    }
   ],
   "source": [
    "!pip install selenium\n",
    "from selenium import webdriver"
   ]
  },
  {
   "cell_type": "code",
   "execution_count": 84,
   "metadata": {},
   "outputs": [],
   "source": [
    "url = 'https://www.ycombinator.com/companies/'"
   ]
  },
  {
   "cell_type": "code",
   "execution_count": 85,
   "metadata": {},
   "outputs": [],
   "source": [
    "driver = webdriver.Chrome('./chromedriver')\n",
    "\n",
    "driver.get(url)\n",
    "soup = BeautifulSoup(driver.page_source,\"html.parser\")"
   ]
  },
  {
   "cell_type": "code",
   "execution_count": 86,
   "metadata": {},
   "outputs": [],
   "source": [
    "import time\n",
    "def scroll_to_end(driver):\n",
    "    driver.execute_script(\"window.scrollTo(0, document.body.scrollHeight);\")\n",
    "    time.sleep(1)"
   ]
  },
  {
   "cell_type": "code",
   "execution_count": 87,
   "metadata": {},
   "outputs": [
    {
     "name": "stdout",
     "output_type": "stream",
     "text": [
      "40\n"
     ]
    }
   ],
   "source": [
    "results = driver.find_elements_by_xpath(\"//a[@class='SharedDirectory-module__company___AVmr6 no-hovercard']\")\n",
    "i=0\n",
    "links = []\n",
    "for result in results:\n",
    "    s=result.get_attribute('href')\n",
    "    links.append(s.split('/')[-1])\n",
    "    i+=1\n",
    "print(i)"
   ]
  },
  {
   "cell_type": "code",
   "execution_count": 91,
   "metadata": {},
   "outputs": [
    {
     "name": "stdout",
     "output_type": "stream",
     "text": [
      "[{'name': 'Dropbox', 'info': 'Dropbox', 'description': 'Dropbox is building the world’s first smart workspace.\\nBack in 2007, making work better for people meant designing a simpler way to keep files in sync. Today, it means designing products that reduce busywork so you can focus on the work that matters.\\n\\nMost “productivity tools” get in your way. They constantly ping, distract, and disrupt your team’s flow, so you spend your days switching between apps and tracking down feedback. It’s busywork, not the meaningful stuff. We want to change this. \\n\\nWe believe there’s a more enlightened way to work. Dropbox helps people be organized, stay focused, and get in sync with their teams.'}, {'name': 'PagerDuty', 'info': 'PagerDuty', 'description': 'PagerDuty is an operations performance platform delivering visibility and actionable intelligence across the entire incident lifecycle. Their SaaS-based solution empowers over 10,000 small, mid-size and enterprise global customers such as Comcast, eHarmony, Slack and Lululemon with the insight to intelligently respond to critical disruptions for exceptional customer experience. PagerDuty was founded to deliver a new and innovative approach to increase business response and efficiency. When brand reputation depends on customer satisfaction, PagerDuty arms businesses with the insight to proactively manage incidents and events that may impact customers across their IT environment.'}, {'name': 'Embark Trucks', 'info': 'Embark Trucks', 'description': 'We are a San Francisco based team building self-driving semi trucks. We have raised $117MM in total and are backed by Tiger Global Management ($70MM Series C) and Sequoia Capital ($30MM Series B). We move freight daily between LA and Phoenix using our purpose built transfer hubs. This is an incredibly exciting time for autonomous driving and our team is looking to grow.'}, {'name': 'GoCardless', 'info': 'GoCardless', 'description': 'GoCardless is on a mission to take the pain out of getting paid for businesses with recurring revenue.\\n\\nWe’ve created a global bank debit network, to rival credit and debit cards. On top of it, we’ve built a platform designed and optimised for taking invoice, subscription, membership and instalment payments.\\n\\nWe now process over $15bn in transactions a year and we’re proud to count 50,000 businesses around the world as our customers, from small businesses to household names like TripAdvisor and The Guardian.\\n\\nOur recurring payments platform integrates with the applications businesses use every day, giving businesses more visibility over payments and saving them huge amounts of time on tasks like payment reconciliation. We partner with more than 150 billing and subscription software partners globally, including Xero, Sage, QuickBooks, Zuora and Salesforce.\\n\\nGoCardless has offices in London, Paris, Munich, Melbourne and San Francisco. We’re backed by some of the world’s leading investors including Adams Street Partners, Accel Partners, Balderton Capital, GV (formerly Google Ventures), Notion Capital, Passion Capital, Salesforce Ventures Y Combinator.'}, {'name': 'Lattice', 'info': 'Lattice', 'description': 'Lattice is the #1 performance management solution for growing companies. With Lattice, it’s easy to launch 360 performance review cycles, keep track of OKR/goals, gather real-time feedback, and encourage manager 1-on-1 meetings. Coinbase, PlanGrid, WePay, Birchbox and hundreds of other companies all use Lattice to run performance reviews and help give employees the feedback that they deserve.'}, {'name': 'Xendit', 'info': 'Xendit', 'description': 'Xendit provides payment solutions that simplify the payment process for businesses in Indonesia and the Philippines, from SMEs, e-commerce startups to giant corporations. \\n\\nXendit provides a secure, easy-to-integrate payment system, and seamless payment experience supported by great customer service. With a diverse range of products, Xendit’s system can accept payments from virtual accounts, credit and debit cards, eWallets, retail outlets, and also online installments. \\n\\nWith our aim to build Indonesia and the Philippines’s payment infrastructure, Xendit is on its way shaping the next generation of unicorns by empowering startups to grow exponentially through the products we offer. \\n\\nXendit is licensed and regulated in multiple countries in Southeast Asia'}, {'name': 'Segment', 'info': 'Segment', 'description': \"Segment is one place to collect customer data and send it to your tools for analytics, marketing automation, and raw data access with SQL. Implement all of your event tracking with Segment’s single API instead of wrangling a new API for every new tool or database. Segment's integrations let you send your data to hundreds of tools and databases.\"}, {'name': 'Ironclad', 'info': 'Ironclad', 'description': 'Contracts are business decisions trapped in administrative tasks. Ironclad is software that does all the administrative work better left for a robot, freeing legal teams to do more substantive work and drive business strategy. By automating contracting processes and extracting intelligence from contracts, Ironclad lets legal teams focus on legal work, rather than paperwork. Legal teams at companies like Gusto, HotelTonight, GoFundMe, Glassdoor, Procore use Ironclad to get their contracts done more efficiently and accurately, and to maintain a single source of truth regarding their contents.\\n\\nHeadquartered in San Francisco, Ironclad is backed by Accel, Greylock, SV Angel, Formation 8, and was incubated in Y Combinator. For more information, visit https://www.ironcladapp.com.'}, {'name': 'Razorpay', 'info': 'Razorpay', 'description': 'Razorpay was founded by Shashank Kumar and Harshil Mathur in 2015. Razorpay is building a new age digital banking platform (neobank) for businesses in India. Our mission is to enable frictionless banking and payments experiences for businesses of all shapes and sizes.\\nWe started out as a B2B payments company and today, we process billions of dollars of payments for hundreds of thousands of businesses across India. We are the leading payments provider in the country and have been the first to bring most major innovations to market in the past 5 years.\\nWith the launch of RazorpayX, we aim to become a leading provider of banking and payout products to businesses covering the gamut of current account, payroll, vendor payouts and many others. In the past year, the company has disbursed loans worth millions of dollars to thousands of businesses. \\nOver time the company has developed a stellar track record of serving customer needs from freelancers and small businesses to large scale enterprises.\\n\\nThe company has raised USD $200M+ in funding till date from marquee investors like Sequoia Capital, Tiger Global, GIC, Ribbit Capital, Matrix Partners and many stellar angels.'}, {'name': 'GitLab', 'info': 'GitLab', 'description': 'GitLab is the first single application for the entire DevOps lifecycle. Only GitLab enables Concurrent DevOps, unlocking organizations from the constraints of today’s toolchain. GitLab provides unmatched visibility, radical new levels of efficiency and comprehensive governance to significantly compress the time between planning a change and monitoring its effect. This makes the software lifecycle 200% faster, radically improving the speed of business.\\n\\nGitLab and Concurrent DevOps collapses cycle times by driving higher efficiency across all stages of the software development lifecycle. For the first time, Product, Development, QA, Security, and Operations teams can work concurrently in a single application. There’s no need to integrate and synchronize tools, or waste time waiting for handoffs. Everyone contributes to a single conversation, instead of managing multiple threads across disparate tools. And only GitLab gives teams complete visibility across the lifecycle with a single, trusted source of data to simplify troubleshooting and drive accountability. All activity is governed by consistent controls, making security and compliance first-class citizens instead of an afterthought.\\n\\nBuilt on Open Source, GitLab leverages the community contributions of thousands of developers and millions of users to continuously deliver new DevOps innovations. More than 100,000 organizations from startups to global enterprise organizations, including Ticketmaster, Jaguar Land Rover, NASDAQ, Dish Network and Comcast trust GitLab to deliver great software at new speeds.'}, {'name': 'EquipmentShare', 'info': 'EquipmentShare', 'description': 'EquipmentShare delivers cloud solutions for the construction industry. We provide a better equipment rental experience, fleet tracking software and hardware security solutions to help contractors work smarter.'}, {'name': 'PlanGrid', 'info': 'PlanGrid', 'description': \"PlanGrid is the leader in construction productivity software, used on more than one million projects in 84 countries. PlanGrid's cloud-based platform empowers contractors and owners in commercial, heavy civil, and other industries to collaborate easily from their mobile devices and desktop, managing blueprints, specs, photos, RFIs, field reports, and punch lists. With over 100 million digital blueprints on its platform, PlanGrid is also the largest digital blueprint repository in the world. \\n\\nFounded in 2011, the company was part of Y Combinator in 2012, and has secured over $69 million in funding from Sequoia Capital, Tenaya Capital and several other top firms.\"}, {'name': 'GrubMarket', 'info': 'GrubMarket', 'description': \"GrubMarket's mission is to conveniently make fresh & healthy food accessible to everyone. We firmly believe that you, your family, and your friends should always have the opportunity to eat well, and that price should never be a barrier between you and healthy, delicious, and freshly-harvested food.\\n\\nGrubMarket is committed to providing you with the best grocery experience possible, by regularly offering you delicious food at unbeatable prices. We work with a variety of farms and artisan producers to bring you high-quality foods and other items at prices that are up to 50% OFF what you'd typically find at other premium grocers. \\n\\nGrubMarket is backed by Jerry Yang, the founder of Yahoo, GGV Capital on Sand Hill Road who invested in Square, Pandora and Alibaba, etc., as well as Y Combinator.\"}, {'name': 'Atomwise', 'info': 'Atomwise', 'description': 'Atomwise uses Deep Learning Neural Networks to help discover new medicines. Atomwise achieves the world’s best results for new drug hit discovery, binding affinity prediction, and toxicity detection. Atomwise predicts drug candidates for pharmaceutical companies, startups, and research institutions.'}, {'name': 'Notable Labs', 'info': 'Notable Labs', 'description': \"Notable Labs is building a personalized drug discovery platform to identify treatment options for relapsed and refractory cancer patients — starting with blood cancer — to address the long tail of cancer treatment. We look at a person’s actual cancer cells, test combinations of FDA approved drugs, and see which combinations kill the cancer cells and leave the healthy cells alive. We focus on combinations because cancer is often difficult to target with just one drug and starting with a single drug can lead to resistant clones or relapse. We're building a highly automated lab in Foster City running on our custom software and are currently testing relapsed/refractory cancer patients as well as samples from a variety of pharma/biotech partnerships.\\n\\nhttps://www.notablelabs.com/careers\"}, {'name': 'Helion', 'info': 'Helion', 'description': \"Helion is developing the Fusion Engine, a near term and low cost solution for clean, safe energy. The Fusion Engine's patented reactor technology is based on award winning and peer reviewed research. Recent technology breakthroughs enable clean fusion energy now.\"}, {'name': 'Ginkgo Bioworks', 'info': 'Ginkgo Bioworks', 'description': 'Ginkgo Bioworks is the organism company. We design custom organisms for customers across multiple markets. We build our foundries to scale the process of organism engineering using software and hardware automation. Organism engineers at Ginkgo learn from nature to develop new organisms that replace technology with biology.'}, {'name': 'Front', 'info': 'Front', 'description': 'Front powers the heart of business — the meaningful connections between teams and customers that lead to lasting relationships. Bringing email and apps together in a collaborative customer communication platform, Front drives business impact by scaling the natural conversations that create customers for life. More than 6,000 businesses are using Front today to cultivate personalized customer relationships at scale and transform their work into impact. With $138M in funding, Front is backed by Sequoia Capital, and other leading venture capital firms, as well as independent investors including top executives of Atlassian, Okta, Qualtrics, and Zoom.'}, {'name': 'ShipBob', 'info': 'ShipBob', 'description': 'Founded in 2014 and based in Chicago, ShipBob is a privately held technology company that offers simple, fast, and affordable fulfillment for e-commerce businesses. As an end-to-end fulfillment solution, ShipBob provides warehousing and package delivery in 1-2 business days, with a network of fulfillment centers across the US. ShipBob’s software combines order and inventory management, customer communication, predictive insights, and optimized shipping for online merchants. ShipBob’s software is also fully integrated with leading e-commerce platforms, including eBay, Shopify, Amazon, Magento, and many more.'}, {'name': 'SFOX', 'info': 'SFOX', 'description': 'SFOX, a YC-backed company, makes it easy for enterprises to trade bitcoin. We started with an advanced trading platform that uses algorithms to provide a competitive advantage to our customers. SFOX now aims to expand international commerce by making it easy to trade any currency and settle in real time.'}, {'name': 'Rigetti Computing', 'info': 'Rigetti Computing', 'description': 'Rigetti Computing is building the world’s most powerful computers to help solve humanity’s most pressing and important problems. These systems will perform computations that today’s fastest supercomputers are incapable of — unlocking entirely new classes of problems and offering a direct path to solutions. We are scientists, engineers, builders, and visionaries. We believe quantum computing is going to significantly affect health care, how we treat disease, how we generate energy, and how we feed humanity. Rigetti is the only company deploying full-stack solutions for hybrid classical/quantum computing. Our 19-qubit quantum computer is available online through our Forest platform, and the first commercially useful applications are already under exploration.\\n\\nWe were founded in 2013 by Chad Rigetti, and are located Berkeley and Fremont, California.'}, {'name': 'ClearTax', 'info': 'ClearTax', 'description': 'ClearTax.IN is a product built by ClearSharp Technology Pvt Ltd.\\n\\nClearTax is designed for Individuals to prepare and file their Income Tax Returns in the shortest time while maximising their tax deductions. Our aim is to delight our customers with simplicity, accuracy and getting rid of the notion that taxes are complex.\\n\\nTheir team consists of IIT, BITS, Harvard alums and Chartered Accountants. We consult and partner with Chartered Accountants who have more than 30 years of experience in the area of taxation, finance and accounting.\\n\\nClearSharp are the makers of ClearTax Enterprise Edition which is trusted by hundreds of Chartered Accountants for large scale tax return preparation and e-filing. ClearSharp is a highly trusted name in the enterprise tax preparation and filing market.'}, {'name': 'Checkr', 'info': 'Checkr', 'description': 'Since graduating Y-Combinator in 2014, Checkr’s product has shifted the on-demand economy. Checkr’s mission is to build a fairer future by improving the understanding of the past. As a company that provides modern and compliant background checks for global enterprises and startups, Checkr knows first hand how difficult it may be for individuals with prior criminal history to find employment and we want to help provide second chances for the formerly convicted. We encourage qualified individuals with prior criminal histories to apply for any of our roles.\\n\\nMore than 3,000 businesses trust Checkr for their background screenings including Uber, Instacart, Netflix, Zenefits, GrubHub, Home Depot, and more. Checkr is also featured on Business Insider as one of the top startups to watch in 2016 (http://www.businessinsider.com/the-25-hottest-san-francisco-startups-to-watch-in-2016-2016-1). 9\\n\\nThe company is funded by Accel Partners, Google Ventures, Y Combinator and TRowePrice, and is headquartered in San Francisco, CA.\\n\\nFind out more about Checkr at www.checkr.com.'}, {'name': 'Unbabel', 'info': 'Unbabel', 'description': 'Unbabel’s “Translation as a Service” platform allows organisations to remove language as a barrier to world-class customer service and support across all digital channels. \\n\\nPowered by AI and refined by a global community of tens of thousands of curated bi-linguals, Unbabel delivers professional-grade translations without impacting agent or end-user experience and performance. Unbabel powers exceptional customer service for companies like Microsoft, Logitech, PayPal, Booking.com, easyJet and Oculus. \\n\\nBacked by Point72 Ventures, Scale Venture Partners, Notion Capital, M12, Salesforce Ventures, Samsung NEXT and of course YCombinator, Unbabel is accelerating the shift to a world where language need no longer be a barrier.'}, {'name': 'Algolia', 'info': 'Algolia', 'description': \"Our mission is to make every search interaction meaningful & rewarding, through developer-friendly and enterprise-grade APIs.\\n\\nAlgolia is the leading Search & Discovery API for websites and mobile apps. We help the most innovative companies across e-commerce, media and SaaS industries create powerful, relevant and scalable discovery experiences for their users. Unlike other solutions, our hosted platform reduces the complexities of building and scaling a fast, relevant digital experience and helps teams accelerate development time. More than 9,000 companies like Under Armour, Twitch, Periscope, Medium and Stripe rely on Algolia to manage 50+ billion search queries a month.\\n\\nFounded in 2012, we're backed by $184M in funding from Accel Partners, Alven Capital, Point Nine Capital and Storm Ventures. The team is headquartered in San Francisco with offices in Paris, London, New York, and Atlanta. To learn more, visit www.algolia.com.\\n\\n---\\nWe’re looking for talented, passionate people to build the world’s best search technology. As an ownership-driven company, we seek team members who thrive under autonomy and diversity. \\n\\nWe're committed to building an inclusive and diverse workplace. We care about each other and the world around us, and embrace talented people regardless of their race, age, ancestry, religion, sex, gender identity, sexual orientation, marital status, color, veteran status, disability and socioeconomic background\"}, {'name': 'Weave', 'info': 'Weave', 'description': 'As the pace of innovation continues, it is growing more difficult to see the value of technology. Often meaningful information is inaccessible at the time it would be most beneficial. Weave threads together data, software and communication platforms to build stronger relationships at the point of contact by making valuable information instantly available in simple and intuitive formats. This delivers improved productivity, better collaboration and greater insights making it easier to meet the needs of patients and to build better business and clinical outcomes.'}, {'name': 'Guesty', 'info': 'Guesty', 'description': 'Property Management Software for Airbnb and Vacation Rentals\\n\\nGuesty is a cloud-based platform, designed exclusively for Airbnb and vacation rental managers. Our property management system was created with one purpose in mind - to tackle the needs of many property managers worldwide. Manage multiple Airbnb accounts alongside 25+ different booking platforms. Guesty’s automation tools, channel management and reporting capabilities allow you to oversee every aspect of your daily operations, manage more properties and keep the same high level of service that your clients are used to. Now, you can do everything on one unified dashboard, inbox and calendar. Our 24/7 guest communication service is also available to screen and support your guests. \\n\\nWant to learn more about the system trusted by the hundreds of Airbnb property managers and vacation rental hosts that run on Guesty? Request a demo at https://www.guesty.com'}, {'name': 'Snapdocs', 'info': 'Snapdocs', 'description': \"Snapdocs powers homeownership. Using technology, we’re building the connective tissue for an entire pillar of the U.S. economy: residential real estate. \\n\\nToday, we’re working to perfect mortgage closings, but that’s only the beginning. If we succeed, more than five million families per year will gain clarity and transparency as they make the biggest financial decision of their lives: buying a home. Before Snapdocs, no one felt responsible or empowered to solve the problems we face every day we come to the office. \\n\\nIt's complex and difficult work, and the result is not an app we brag about at tech industry parties. Instead, we're making a difference and carefully building a team that shares our priorities—pragmatism, respect and empathy for our clients, and building honest products that improve all our users’ lives.\"}, {'name': 'MBX (formerly Memebox)', 'info': 'MBX (formerly Memebox)', 'description': 'MBX (formerly Memebox) is a multi-brand beauty and personal care startup headquartered in San Francisco. The venture-backed company has raised over $190M in funding from prominent investors, including Formation 8 & Group, Goodwater Capital, Johnson & Johnson, Pear VC, Y Combinator, and other Silicon Valley VCs. Memebox operates a portfolio of beauty and personal care brands that are co-developed with strategic partners like Sephora and Ulta, using data-driven insights to identify white space opportunities in the market. The company’s products are made in Korea, leveraging the latest K-beauty innovations in the formula, packaging, and speed-to-market. MBX has offices in San Francisco, Seoul, Shanghai, and Taipei, and its brands include Kaja, I Dew Care, Pony Effect, I’m Meme, and Nooni.'}, {'name': 'Axoni', 'info': 'Axoni', 'description': 'Axoni is a New York-based technology firm that builds multi-party workflows and infrastructure for some of the largest financial institutions in the world. Founded in 2013, the company offers core data infrastructure, application development, and automation tools.'}, {'name': 'Flexport', 'info': 'Flexport', 'description': \"Flexport's mission is to fix the user experience in global trade and bring the world free trade through technology. All of us at Flexport share a vision for a world where any two businesses can trade with each other without regard for geographic distance, logistical complexity, or regulatory challenges.\\n\\nWe are a licensed customs brokerage and freight forwarder built around an online dashboard. Our services include air freight, ocean freight, trucking, fulfillment, and cargo insurance. By automating these services and delivering them through an online dashboard, we’ve dramatically reduced costs and improved reliability. \\n\\nOur services put clients back in control of their logistics and supply chain needs. We offer faster freight quotes, lower prices, improved visibility and notifications, and advanced analytics. Our team of logistics managers offer world-class customer support to ensure all shipments exceed client expectations.\\n\\nBacked by Google Ventures, Bloomberg Beta, First Round Capital, Y Combinator and many more, Flexport is redefining how companies manage their global supply chain. \\n\\nInterested in joining our team? Check out our open job postings!\"}, {'name': 'Cruise', 'info': 'Cruise', 'description': 'Cruise is building the world’s most advanced, all-electric, self-driving car technology to safely connect people with the places, things, and experiences they care about. Self-driving cars will help save lives, reimagine cities, redefine time in transit, and restore freedom of movement for individuals who live in dense urban settings. Acquired by GM in 2016.'}, {'name': 'Webflow', 'info': 'Webflow', 'description': 'Webflow empowers designers, marketers, and entrepreneurs to create beautiful, responsive websites—without writing a single line of code, or relying on a developer. \\n\\nIts drag-and-drop interface looks, feels, and works like familiar desktop design tools, and writes clean, semantic code any developer would be proud of. \\n\\nWebflow is backed by Y Combinator, Accel, Silversmith, and other awesome investors.'}, {'name': 'Lob', 'info': 'Lob', 'description': 'Lob provides the building blocks for developers to automate the offline world. Enterprise companies use Lob’s suite of APIs to mail fully dynamic and personalized customer communications with print media. We provide insight into deliverability with piece-by-piece tracing and utilize our proprietary Print Delivery Network to streamline production across fully redundant nodes all over the country. \\n\\nFounded in 2013 and based in San Francisco, Lob is venture backed by Y Combinator, Polaris Partners, Floodgate, and First Round Capital.\\n\\nFind out more about Lob and what we’re up to by following our blog: https://lob.com/blog or visiting our website: https://lob.com.'}, {'name': 'Panorama Education', 'info': 'Panorama Education', 'description': \"Panorama is working to radically improve education for all students. We currently serve 11,000 schools and 10 million students.\\n\\nPanorama helps educators use data to support each student’s needs, and helps leaders build great schools. The platform helps build students' social-emotional skills and get more students prepared for college, their careers, and life.\"}, {'name': 'Le Tote', 'info': 'Le Tote', 'description': 'Le Tote is the leading online fashion service, providing women access to an unlimited, personalized closet of everyday apparel. Its highly analytical, data-driven approach to retail aims to fundamentally transform the next generation of commerce. Leveraging more than 2B customer data points, the proprietary style and personalization engine is fully powered by algorithms, and supported by custom-built, end-to-end technology and logistics solutions.\\n\\nLe Tote has customers across 48 states in the U.S. and recently launched in China. The company has seen over 300% growth year over year for the past 2 years and has raised more than $60M from top-tier venture capital firms including Andreessen Horowitz, Google Ventures, Y Combinator, Azure Capital and Sway Ventures.'}, {'name': 'EasyPost', 'info': 'EasyPost', 'description': 'EasyPost is the missing API that makes it quick and painless to integrate shipping into your application.\\n\\nSome of the biggest names in retail rely on EasyPost to ship faster, smarter and cheaper. We manage the headaches involved with dated carrier technology so our customers can focus on what makes their business great. Integrate once with EasyPost and seamlessly add carriers, generate shipping labels, track packages in near real-time and insure your shipments.\\n\\nEasyPost is growing fast! Check out our jobs page and join the excitement: https://www.easypost.com/jobs'}, {'name': 'DoorDash', 'info': 'DoorDash', 'description': 'Founded in 2013, DoorDash is a San Francisco-based technology company passionate about transforming local businesses and dedicated to enabling new ways of working, earning, and living. Today, DoorDash connects customers with their favorite local and national restaurants in more than 600 cities across the United States and Canada. By building intelligent, last-mile delivery technology for local cities, DoorDash aims to connect people with the things they care about — one dash at a time. \\n\\nRead more at blog.doordash.com, and find us on Glassdoor.'}, {'name': 'CoreOS', 'info': 'CoreOS', 'description': 'CoreOS is part of the Red Hat family. A leader in the open source community and an innovator of open source projects, CoreOS creates and delivers critical components for containerized applications that help fuel broad adoption of secure, scalable and resilient infrastructure. The team maintains several open source projects, including: Container Linux: the secure automatic updating OS; and etcd, the distributed data store for Kubernetes. \\n\\nJoin us at https://coreos.com/ and @CoreOS on Twitter.'}, {'name': 'Heap', 'info': 'Heap', 'description': 'Heap automates away the annoying parts of user analytics. No manual event tracking. No messy tracking plans. No custom ETL pipelines. Just insights. For everyone on your team.'}]\n"
     ]
    }
   ],
   "source": [
    "# Loop through all the links and launch one by one\n",
    "name=[]\n",
    "dic = []\n",
    "for link in links:\n",
    "    driver.get(url+link)\n",
    "    item = {'name': driver.find_element_by_class_name(\"heavy\").text, \n",
    "            'info': driver.find_element_by_class_name(\"heavy\").text,\n",
    "            'description':driver.find_element_by_class_name(\"pre-line\").text}\n",
    "    dic.append(item)\n",
    "    \n",
    "print(dic)"
   ]
  },
  {
   "cell_type": "code",
   "execution_count": 89,
   "metadata": {},
   "outputs": [
    {
     "data": {
      "text/plain": [
       "{'name': None, 'info': None, 'description': None, 'website': None}"
      ]
     },
     "execution_count": 89,
     "metadata": {},
     "output_type": "execute_result"
    }
   ],
   "source": []
  },
  {
   "cell_type": "code",
   "execution_count": null,
   "metadata": {},
   "outputs": [],
   "source": []
  }
 ],
 "metadata": {
  "kernelspec": {
   "display_name": "Python 3",
   "language": "python",
   "name": "python3"
  },
  "language_info": {
   "codemirror_mode": {
    "name": "ipython",
    "version": 3
   },
   "file_extension": ".py",
   "mimetype": "text/x-python",
   "name": "python",
   "nbconvert_exporter": "python",
   "pygments_lexer": "ipython3",
   "version": "3.8.3"
  }
 },
 "nbformat": 4,
 "nbformat_minor": 4
}
