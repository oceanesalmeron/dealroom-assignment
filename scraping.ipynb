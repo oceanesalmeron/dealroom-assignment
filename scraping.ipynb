{
 "cells": [
  {
   "cell_type": "markdown",
   "metadata": {},
   "source": [
    "# Web scraping\n",
    "*Done by Océane Salmeron, December 2020*"
   ]
  },
  {
   "cell_type": "code",
   "execution_count": 91,
   "metadata": {
    "scrolled": true
   },
   "outputs": [
    {
     "name": "stdout",
     "output_type": "stream",
     "text": [
      "Requirement already satisfied: selenium in /Users/oceanesalmeron/opt/anaconda3/lib/python3.8/site-packages (3.141.0)\r\n",
      "Requirement already satisfied: urllib3 in /Users/oceanesalmeron/opt/anaconda3/lib/python3.8/site-packages (from selenium) (1.25.9)\r\n"
     ]
    }
   ],
   "source": [
    "import pandas as pd\n",
    "import numpy as np\n",
    "import time\n",
    "\n",
    "!pip install selenium\n",
    "from selenium import webdriver"
   ]
  },
  {
   "cell_type": "code",
   "execution_count": 92,
   "metadata": {},
   "outputs": [],
   "source": [
    "url = 'https://www.ycombinator.com/companies/'\n",
    "\n",
    "driver = webdriver.Chrome('./chromedriver')\n",
    "\n",
    "driver.get(url)"
   ]
  },
  {
   "cell_type": "code",
   "execution_count": 93,
   "metadata": {},
   "outputs": [],
   "source": [
    "def scroll_to_end(driver):\n",
    "    while len(driver.find_elements_by_xpath(\"//a[@class='SharedDirectory-module__company___AVmr6 no-hovercard']\"))<100 :\n",
    "        driver.execute_script(\"window.scrollTo(0, document.body.scrollHeight);\")"
   ]
  },
  {
   "cell_type": "code",
   "execution_count": 94,
   "metadata": {},
   "outputs": [],
   "source": [
    "scroll_to_end(driver)"
   ]
  },
  {
   "cell_type": "code",
   "execution_count": 95,
   "metadata": {},
   "outputs": [
    {
     "name": "stdout",
     "output_type": "stream",
     "text": [
      "100\n"
     ]
    }
   ],
   "source": [
    "results = driver.find_elements_by_xpath(\"//a[@class='SharedDirectory-module__company___AVmr6 no-hovercard']\")\n",
    "i=0\n",
    "links = []\n",
    "for result in results:\n",
    "    s=result.get_attribute('href')\n",
    "    links.append(s.split('/')[-1])\n",
    "    i+=1\n",
    "print(i)"
   ]
  },
  {
   "cell_type": "code",
   "execution_count": 96,
   "metadata": {
    "scrolled": true
   },
   "outputs": [],
   "source": [
    "# Loop through all the links and launch one by one\n",
    "\n",
    "dic = []\n",
    "\n",
    "for link in links:\n",
    "    \n",
    "    driver.get(url+link)\n",
    "    \n",
    "    facts = driver.find_elements_by_css_selector(\".facts div span\")\n",
    "    socials = driver.find_elements_by_css_selector(\".social\")\n",
    "       \n",
    "    item = {'name': driver.find_element_by_class_name(\"heavy\").text, \n",
    "            'info': driver.find_element_by_css_selector(\".main-box h3\").text,\n",
    "            'description': driver.find_element_by_class_name(\"pre-line\").text,\n",
    "            'website': driver.find_element_by_css_selector(\".main-box .links a\").get_attribute('href'),\n",
    "            'launch_year': facts[0].text,\n",
    "            'team_size': facts[1].text,\n",
    "            'location': facts[2].text\n",
    "           }\n",
    "    \n",
    "    for social in socials:\n",
    "        item[social.get_attribute('class').split()[-1]] = social.get_attribute('href')\n",
    "        \n",
    "    dic.append(item)  "
   ]
  },
  {
   "cell_type": "code",
   "execution_count": 97,
   "metadata": {},
   "outputs": [],
   "source": [
    "data = pd.DataFrame.from_dict(dic)\n",
    "data.replace(r'^\\s*$', np.nan, regex=True, inplace = True)"
   ]
  },
  {
   "cell_type": "code",
   "execution_count": 98,
   "metadata": {},
   "outputs": [
    {
     "data": {
      "text/html": [
       "<div>\n",
       "<style scoped>\n",
       "    .dataframe tbody tr th:only-of-type {\n",
       "        vertical-align: middle;\n",
       "    }\n",
       "\n",
       "    .dataframe tbody tr th {\n",
       "        vertical-align: top;\n",
       "    }\n",
       "\n",
       "    .dataframe thead th {\n",
       "        text-align: right;\n",
       "    }\n",
       "</style>\n",
       "<table border=\"1\" class=\"dataframe\">\n",
       "  <thead>\n",
       "    <tr style=\"text-align: right;\">\n",
       "      <th></th>\n",
       "      <th>name</th>\n",
       "      <th>info</th>\n",
       "      <th>description</th>\n",
       "      <th>website</th>\n",
       "      <th>launch_year</th>\n",
       "      <th>team_size</th>\n",
       "      <th>location</th>\n",
       "      <th>linkedin</th>\n",
       "      <th>twitter</th>\n",
       "      <th>facebook</th>\n",
       "      <th>crunchbase</th>\n",
       "    </tr>\n",
       "  </thead>\n",
       "  <tbody>\n",
       "    <tr>\n",
       "      <th>0</th>\n",
       "      <td>Dropbox</td>\n",
       "      <td>Backup and share files in the cloud.</td>\n",
       "      <td>Dropbox is building the world’s first smart wo...</td>\n",
       "      <td>http://dropbox.com/</td>\n",
       "      <td>2008</td>\n",
       "      <td>4000</td>\n",
       "      <td>San Francisco</td>\n",
       "      <td>https://www.linkedin.com/in/drewhouston/</td>\n",
       "      <td>https://twitter.com/drewhouston</td>\n",
       "      <td>https://www.facebook.com/Dropbox/</td>\n",
       "      <td>https://www.crunchbase.com/organization/dropbox</td>\n",
       "    </tr>\n",
       "    <tr>\n",
       "      <th>1</th>\n",
       "      <td>PagerDuty</td>\n",
       "      <td>Notify you about server troubles.</td>\n",
       "      <td>PagerDuty is an operations performance platfor...</td>\n",
       "      <td>http://pagerduty.com/</td>\n",
       "      <td>NaN</td>\n",
       "      <td>775</td>\n",
       "      <td>San Francisco</td>\n",
       "      <td>https://www.linkedin.com/in/baskarfx/</td>\n",
       "      <td>NaN</td>\n",
       "      <td>NaN</td>\n",
       "      <td>https://www.crunchbase.com/organization/pagerduty</td>\n",
       "    </tr>\n",
       "    <tr>\n",
       "      <th>2</th>\n",
       "      <td>Embark Trucks</td>\n",
       "      <td>We build self-driving semi trucks.</td>\n",
       "      <td>We are a San Francisco based team building sel...</td>\n",
       "      <td>http://embarktrucks.com/</td>\n",
       "      <td>2016</td>\n",
       "      <td>100</td>\n",
       "      <td>San Francisco</td>\n",
       "      <td>https://ca.linkedin.com/in/rodriguesalex</td>\n",
       "      <td>NaN</td>\n",
       "      <td>NaN</td>\n",
       "      <td>https://www.crunchbase.com/organization/varden...</td>\n",
       "    </tr>\n",
       "    <tr>\n",
       "      <th>3</th>\n",
       "      <td>GoCardless</td>\n",
       "      <td>The first global network for recurring payments</td>\n",
       "      <td>GoCardless is on a mission to take the pain ou...</td>\n",
       "      <td>http://gocardless.com/</td>\n",
       "      <td>2011</td>\n",
       "      <td>400</td>\n",
       "      <td>London, United Kingdom</td>\n",
       "      <td>https://www.linkedin.com/in/mattjackrobinson/</td>\n",
       "      <td>https://twitter.com/mattjackrob</td>\n",
       "      <td>NaN</td>\n",
       "      <td>https://www.crunchbase.com/organization/gocard...</td>\n",
       "    </tr>\n",
       "    <tr>\n",
       "      <th>4</th>\n",
       "      <td>Lattice</td>\n",
       "      <td>Modern performance management software.</td>\n",
       "      <td>Lattice is the #1 performance management solut...</td>\n",
       "      <td>https://lattice.com/</td>\n",
       "      <td>2015</td>\n",
       "      <td>160</td>\n",
       "      <td>San Francisco</td>\n",
       "      <td>https://www.linkedin.com/in/erickoslow</td>\n",
       "      <td>https://twitter.com/ekosz1</td>\n",
       "      <td>NaN</td>\n",
       "      <td>https://www.crunchbase.com/organization/lattice-2</td>\n",
       "    </tr>\n",
       "  </tbody>\n",
       "</table>\n",
       "</div>"
      ],
      "text/plain": [
       "            name                                             info  \\\n",
       "0        Dropbox             Backup and share files in the cloud.   \n",
       "1      PagerDuty                Notify you about server troubles.   \n",
       "2  Embark Trucks               We build self-driving semi trucks.   \n",
       "3     GoCardless  The first global network for recurring payments   \n",
       "4        Lattice          Modern performance management software.   \n",
       "\n",
       "                                         description  \\\n",
       "0  Dropbox is building the world’s first smart wo...   \n",
       "1  PagerDuty is an operations performance platfor...   \n",
       "2  We are a San Francisco based team building sel...   \n",
       "3  GoCardless is on a mission to take the pain ou...   \n",
       "4  Lattice is the #1 performance management solut...   \n",
       "\n",
       "                    website launch_year team_size                location  \\\n",
       "0       http://dropbox.com/        2008      4000           San Francisco   \n",
       "1     http://pagerduty.com/         NaN       775           San Francisco   \n",
       "2  http://embarktrucks.com/        2016       100           San Francisco   \n",
       "3    http://gocardless.com/        2011       400  London, United Kingdom   \n",
       "4      https://lattice.com/        2015       160           San Francisco   \n",
       "\n",
       "                                        linkedin  \\\n",
       "0       https://www.linkedin.com/in/drewhouston/   \n",
       "1          https://www.linkedin.com/in/baskarfx/   \n",
       "2       https://ca.linkedin.com/in/rodriguesalex   \n",
       "3  https://www.linkedin.com/in/mattjackrobinson/   \n",
       "4         https://www.linkedin.com/in/erickoslow   \n",
       "\n",
       "                           twitter                           facebook  \\\n",
       "0  https://twitter.com/drewhouston  https://www.facebook.com/Dropbox/   \n",
       "1                              NaN                                NaN   \n",
       "2                              NaN                                NaN   \n",
       "3  https://twitter.com/mattjackrob                                NaN   \n",
       "4       https://twitter.com/ekosz1                                NaN   \n",
       "\n",
       "                                          crunchbase  \n",
       "0    https://www.crunchbase.com/organization/dropbox  \n",
       "1  https://www.crunchbase.com/organization/pagerduty  \n",
       "2  https://www.crunchbase.com/organization/varden...  \n",
       "3  https://www.crunchbase.com/organization/gocard...  \n",
       "4  https://www.crunchbase.com/organization/lattice-2  "
      ]
     },
     "execution_count": 98,
     "metadata": {},
     "output_type": "execute_result"
    }
   ],
   "source": [
    "data.head()"
   ]
  },
  {
   "cell_type": "code",
   "execution_count": 99,
   "metadata": {},
   "outputs": [
    {
     "name": "stdout",
     "output_type": "stream",
     "text": [
      "<class 'pandas.core.frame.DataFrame'>\n",
      "RangeIndex: 100 entries, 0 to 99\n",
      "Data columns (total 11 columns):\n",
      " #   Column       Non-Null Count  Dtype \n",
      "---  ------       --------------  ----- \n",
      " 0   name         100 non-null    object\n",
      " 1   info         99 non-null     object\n",
      " 2   description  99 non-null     object\n",
      " 3   website      100 non-null    object\n",
      " 4   launch_year  49 non-null     object\n",
      " 5   team_size    100 non-null    object\n",
      " 6   location     100 non-null    object\n",
      " 7   linkedin     79 non-null     object\n",
      " 8   twitter      69 non-null     object\n",
      " 9   facebook     41 non-null     object\n",
      " 10  crunchbase   94 non-null     object\n",
      "dtypes: object(11)\n",
      "memory usage: 8.7+ KB\n"
     ]
    }
   ],
   "source": [
    "data.info()"
   ]
  }
 ],
 "metadata": {
  "kernelspec": {
   "display_name": "Python 3",
   "language": "python",
   "name": "python3"
  },
  "language_info": {
   "codemirror_mode": {
    "name": "ipython",
    "version": 3
   },
   "file_extension": ".py",
   "mimetype": "text/x-python",
   "name": "python",
   "nbconvert_exporter": "python",
   "pygments_lexer": "ipython3",
   "version": "3.8.3"
  }
 },
 "nbformat": 4,
 "nbformat_minor": 4
}
